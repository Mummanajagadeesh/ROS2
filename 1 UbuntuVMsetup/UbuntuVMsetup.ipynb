{
  "nbformat": 4,
  "nbformat_minor": 0,
  "metadata": {
    "colab": {
      "provenance": [],
      "authorship_tag": "ABX9TyMqpg8L3iN/GlLFHwv/5pcv",
      "include_colab_link": true
    },
    "kernelspec": {
      "name": "python3",
      "display_name": "Python 3"
    },
    "language_info": {
      "name": "python"
    }
  },
  "cells": [
    {
      "cell_type": "markdown",
      "metadata": {
        "id": "view-in-github",
        "colab_type": "text"
      },
      "source": [
        "<a href=\"https://colab.research.google.com/github/Mummanajagadeesh/ROS2/blob/main/UbuntuVMsetup.ipynb\" target=\"_parent\"><img src=\"https://colab.research.google.com/assets/colab-badge.svg\" alt=\"Open In Colab\"/></a>"
      ]
    },
    {
      "cell_type": "markdown",
      "source": [
        "# Installing Ubuntu on VirtualBox\n",
        "\n",
        "Follow these steps to install Ubuntu 24.04 on VirtualBox.\n",
        "\n",
        "## Step 1: Download Ubuntu 24.04 ISO Image\n",
        "\n",
        "Go to [Ubuntu 24.04 Desktop ISO](https://ubuntu.com/download/desktop) and download the 64-bit PC (AMD64) desktop image.\n",
        "\n",
        "## Step 2: Download VirtualBox Installer\n",
        "\n",
        "Download VirtualBox from [VirtualBox Downloads](https://www.virtualbox.org/wiki/Downloads) according to your operating system.\n",
        "\n",
        "## Step 3: Install VirtualBox\n",
        "\n",
        "Run the VirtualBox installer and follow the installation steps.\n",
        "\n",
        "## Create Virtual Machine\n",
        "\n",
        "1. Open **Oracle VM VirtualBox Manager** and click on **New**.\n",
        "\n",
        "2. **Name and OS Type:**\n",
        "   - Name: Ubuntu 22.04 VM\n",
        "   - Type: Linux\n",
        "   - Version: Ubuntu (64-bit)\n",
        "\n",
        "3. **Memory Size (RAM):**\n",
        "   - Allocate RAM based on your computer's capacity. Recommended: 8 GB if your PC has 16 GB RAM.\n",
        "\n",
        "4. **Hard Disk:**\n",
        "   - Select **Create a virtual hard disk now**.\n",
        "   - Hard Disk File Type: VDI\n",
        "   - Storage on Physical Hard Disk: **Dynamically Allocated**\n",
        "   - File Location and Size: **25 GB**\n",
        "\n",
        "5. Click **Create**.\n",
        "\n",
        "6. **Configure VM Settings:**\n",
        "   - Select the VM and go to **Settings > Storage**.\n",
        "   - Under **Controller: IDE**, click **Empty**.\n",
        "   - Click the disk icon next to **Optical Drive** and choose the Ubuntu 22.04 ISO file downloaded in Step 1.\n",
        "   - Click **OK** to save settings.\n",
        "\n",
        "## Installing Ubuntu on VM\n",
        "\n",
        "1. Start the VM by clicking **Start**.\n",
        "\n",
        "2. In the GNU GRUB Menu, select **Try or Install Ubuntu**.\n",
        "\n",
        "3. Choose **Install Ubuntu** and select your keyboard layout.\n",
        "\n",
        "4. Select **Minimal Installation** for updates and software.\n",
        "\n",
        "5. Select **Erase disk and install Ubuntu** for installation type. Click **Install Now** and then **Continue**.\n",
        "\n",
        "6. Set your username, password, and choose **Log in automatically** if preferred.\n",
        "\n",
        "7. Click **Continue** to begin installation.\n",
        "\n",
        "\n"
      ],
      "metadata": {
        "id": "rWWpfAR2tuJf"
      }
    }
  ]
}
